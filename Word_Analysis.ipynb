{
 "metadata": {
  "name": "",
  "signature": "sha256:f13eefec8b1972e1fb4163658ae72c0276ccd0e0cbae393d8cb70a5b9c8940ad"
 },
 "nbformat": 3,
 "nbformat_minor": 0,
 "worksheets": [
  {
   "cells": [
    {
     "cell_type": "code",
     "collapsed": false,
     "input": [
      "import nltk\n",
      "from string import punctuation, ascii_lowercase\n",
      "from itertools import permutations, combinations\n",
      "from patterns import *\n",
      "from nltk.tokenize import wordpunct_tokenize\n",
      "nltk.data.path.append('./tweetEasy/nltk_data/') #this may need to change depending on when\n",
      "from nltk.corpus import stopwords\n",
      "from collections import Counter\n",
      "from tweetsql.model import Tweet, Hashtag, User\n",
      "from tweetsql.database import db_session\n",
      "import pickle"
     ],
     "language": "python",
     "metadata": {},
     "outputs": [],
     "prompt_number": 1
    },
    {
     "cell_type": "code",
     "collapsed": false,
     "input": [
      "hashtag_input = open('user_hashtag.p', 'rb')\n",
      "db_hashtags = pickle.load(hashtag_input)\n",
      "tweet_input = open('user_tweet.p', 'rb')\n",
      "tweets = pickle.load(tweet_input)"
     ],
     "language": "python",
     "metadata": {},
     "outputs": [],
     "prompt_number": 2
    },
    {
     "cell_type": "code",
     "collapsed": false,
     "input": [
      "#load global lists of stopwords here\n",
      "adhoc_stop = ['RT', 'via', '...', 'http', '://', 'co', 're', 'de', 'amp', 'gt', 'common', 'core', 'ccss', 'commoncore', 'standards']\n",
      "punctuation = list(punctuation) + [''.join(t) for t in list(permutations(punctuation, 2))] + [''.join(t) for t in list(permutations(punctuation, 3))]\n",
      "global_stop = stopwords.words('english') + [ts.lower() for ts in adhoc_stop] + list(ascii_lowercase)"
     ],
     "language": "python",
     "metadata": {},
     "outputs": [],
     "prompt_number": 3
    },
    {
     "cell_type": "code",
     "collapsed": false,
     "input": [
      "import pandas as pd\n",
      "tweetdf = pd.DataFrame(tweets, columns=['screen_name', 'uid', 'tweet'])"
     ],
     "language": "python",
     "metadata": {},
     "outputs": [],
     "prompt_number": 4
    },
    {
     "cell_type": "code",
     "collapsed": false,
     "input": [
      "list(tweetdf[tweetdf.screen_name=='LearningFirst'].tweet)"
     ],
     "language": "python",
     "metadata": {},
     "outputs": [
      {
       "metadata": {},
       "output_type": "pyout",
       "prompt_number": 5,
       "text": [
        "[u'#NJ teachers talk about why they support the #CommonCore: http://t.co/pY7wAcDUmF #CCSS',\n",
        " u'On the Educators for High Standards\\' \"Teacher Champion Blog,\" teachers share why they support the #CommonCore: http://t.co/Puo4d2o32K #CCSS',\n",
        " u'According to president of WV PTA, \"#CommonCore not the \\'Horror\\' you keep hearing about!\" http://t.co/oCmwXdH1Or via @NationalPTA',\n",
        " u'RT @LearningForward: Great facilitator tools to support #CCSS implementation! Managing change, leading teams, etc. http://t.co/VywZANs9kz',\n",
        " u'Teacher leader on #CommonCore: \"I think the most important lesson for all of us is to find the time to collaborate\" http://t.co/Rzw0qt9VCT',\n",
        " u'68% of black parents believe #CommonCore will improve student achievement, according to @NatUrbanLeague study http://t.co/koTX8rirno',\n",
        " u'Joplin Superintendent C.J. Huff talks about building support for, and demystifying, the #CommonCore http://t.co/fbf6tDeKkT #podcast #CCSS',\n",
        " u'Teacher on #CommonCore: \"We are the ones that are in the trenches. We know what works and what doesn\\'t work.\" http://t.co/2QWLf7ARH1 #CCSS',\n",
        " u'\"A confounding aspect of the attacks on #CommonCore has been the minimization of the opinion of educators\" http://t.co/4zaRtqweP2 #CCSS',\n",
        " u'RT @al_bpc: Do you use tech in the classroom to help w/ #CCSS? Join @LearningFirst &amp; @ISTEconnects #CCSStech #townhall 2 share ur stories 1\\u2026',\n",
        " u'How can we use #edtech to support #CCSS implementation? Join our Twitter #townhall to discuss. 11/19, 8 pm ET. Hashtag: #CCSStech',\n",
        " u'RT @EdProgress: How is technology being used with #CCSS? Join the @LearningFirst &amp; @ISTEconnects #townhall to find out 11/19, 8 pm ET #CCSS\\u2026',\n",
        " u'RT @EdProgress: Join the @LearningFirst &amp; @isteconnects #townhall to find out how tech is being used w/ #CommonCore on 11/19, 8 pm ET #CCSS\\u2026',\n",
        " u'TONIGHT, 8pmET: How is #edtech supporting #CommonCore implementation? @JPozoOlano to lead #townhall discussion. Join in w/ #CCSStech',\n",
        " u'RT @akarhuse: TONIGHT at 8 PM ET \"#Edtech in a #CommonCore World,\" a @LearningFirst &amp; @isteconnects Twitter town hall. Join the conversatio\\u2026',\n",
        " u'#CommonCore Reading: The Struggle Over Struggle http://t.co/PgH8AcOak7 via @nprnews #CCSS',\n",
        " u'RT @Collaborative_: How can #edtech support #CCSS? Join @LearningFirst &amp; @ISTEconnects Twitter #townhall to discuss tonight at 8 pm ET. Has\\u2026',\n",
        " u'RT @NASSP: Join @LearningFirst &amp; @isteconnects tonight @ 8pmET to discuss how #edtech is supporting #CommonCore implementation #CCSStech',\n",
        " u'RT @KEHappenings: Tonight! MT @LearningFirst: How can we use #edtech to support #CCSS implementation? Join Twitter #townhall to discuss. 11\\u2026',\n",
        " u'RT @ASCAtweets: Tonight, 8pmET: #Edtech in a #CommonCore World, a @LearningFirst &amp; @isteconnects Twitter townhall. Join in w/ #CCSStech',\n",
        " u'Teacher Leader Tanya Golden shares her experience w/ #CommonCore implementation http://t.co/wXMWy6Iysz #teachervoice http://t.co/insYfmDAlF',\n",
        " u'RT @LisaWolfe: TONIGHT, 8pmET: How is #edtech supporting #CommonCore implementation? @JPozoOlano to lead #townhall discussion. Join in w/ #\\u2026',\n",
        " u'.@NationalPTA President and Military Parent Otha Thornton talks about the #CommonCore in our latest #podcast http://t.co/X0N07GASrH #CCSS',\n",
        " u'RT @Ryan_Imbriale: Join @LearningFirst &amp; @isteconnects tonight @ 8pmET to discuss how #edtech is supporting #CommonCore implementation #CCS\\u2026',\n",
        " u'RT @EdMagsEditor: Join @LearningFirst &amp; @isteconnects tonight @ 8pmET to discuss how #edtech is supporting #CommonCore implementation #CCSS\\u2026',\n",
        " u'Just a couple hours until #CCSStech! Join us + co-host @isteconnects at 8pmET to share your experience w/ #edtech in a #CommonCore world',\n",
        " u\"One hour to #CCSStech, a Twitter Town Hall on #edtech in a #CommonCore world! Follow moderator @JPozoOlano for the Q's &amp; join the convo\",\n",
        " u'RT @mccoyderek: Tonight, 8pmET: How is #edtech supporting #CommonCore implementation? @JPozoOlano to lead #townhall discussion. Join in w/ \\u2026',\n",
        " u'RT @AACTE: Join @LearningFirst &amp; @isteconnects tonight @ 8pmET to discuss how #edtech is supporting #CommonCore implementation #CCSStech',\n",
        " u'15 minutes until our #CCSStech townhall, co-hosted w/ @isteconnects. Join the conversation to talk about the link between #edtech &amp; #CCSS',\n",
        " u'5 minutes to #CCSStech. Join in to share your thoughts on how #edtech can support #CommonCore implementation',\n",
        " u'Welcome to #CCSStech, a Twitter Town Hall on #edtech in a #CommonCore world, co-hosted with @isteconnects',\n",
        " u\"RT @AskATechTeacher: @LearningFirst I love that so much of Common Core includes tech--not in any obvious way, just organically.. That's a g\\u2026\",\n",
        " u'RT @JPozoOlano: Q2: What are some best practices for using technology to facilitate learning in a #CommonCore world?  #CCSStech',\n",
        " u'RT @JPozoOlano: Q3: How can school &amp; district leaders support classroom teachers in technology aided #CCSS implementation? #CCSStech',\n",
        " u'RT @BobFarrace: The personalization of learning is key. Requires that kids r empowered to lead their own learning. Tech+#CommonCore enable \\u2026',\n",
        " u'RT @McTchrEducator: @JPozoOlano Unfortunately, I see a bit of disconnect.  PD for #CCSS.  PD for #edtech  #CCSStech',\n",
        " u'RT @shfarnsworth: #ccsstech A4:professional learning under #ccss w/ tech has brought resources.  Now we have to teach Ts &amp; Ss to be savvy c\\u2026',\n",
        " u'RT @JPozoOlano: Q5:How are educators using technology to prepare students for #CCSS aligned assessments? #CCSStech',\n",
        " u'RT @JPozoOlano: Q6:Give one challenge and one opportunity that technology presents in achieving #CommonCore learning objectives. #CCSStech',\n",
        " u'RT @JPozoOlano: Q7: How often does your #CommonCore implementation strategy include getting the technology into the hands of students? #CCS\\u2026',\n",
        " u'RT @JPozoOlano: Q8: What do you think the future role of technology is in the #CommonCore world? #CCSStech',\n",
        " u'RT @McTchrEducator: @JPozoOlano Tech is not a panacea, but certainly a powerful catalyst in advancing #CommonCore!  #CCSStech',\n",
        " u'RT @JPozoOlano: Last Question: Which #CommonCore standard has had a strong impact on integrating technology for learning? #CCSSTech',\n",
        " u\"RT @isteconnects: Stay tuned for the #CCSStech archive from tonight's townhall on #edtech and #CommonCore from @LearningFirst Great chat ev\\u2026\",\n",
        " u'RT @kmartintahoe: A6: challenge- textbooks/publishers technology is NOT ready yet. even IF the material is CCSS aligned  #ccsstech',\n",
        " u'Our latest #podcast highlights efforts to ensure that parents understand the #CommonCore http://t.co/049eaOIHmB via @NationalPTA',\n",
        " u'How good internal communications can help w/ #CommonCore implementation http://t.co/2wzyNk32af #CCSS #podcast',\n",
        " u'Miss #CCSStech, the LFA/@isteconnects town hall on #edtech in a #CommonCore world? Check out the archive http://t.co/aIfrRLorCR',\n",
        " u'Why should parents support the #CommonCore? @NationalPTA Pres Otha Thornton discusses http://t.co/5BKaeUR5jk #podcast',\n",
        " u'What does it look like when a district w/ a strong collaborative culture implements the #CommonCore? http://t.co/sgfgMOoT64 via @edutopia']"
       ]
      }
     ],
     "prompt_number": 5
    },
    {
     "cell_type": "code",
     "collapsed": false,
     "input": [
      "#filter for top tweeter's tweets\n",
      "sn_counter = Counter()\n",
      "sn_counter.update([sn for sn, u, t in tweets])\n",
      "top_tweeter_tweets = [(sn,u,t) for sn, u, t in tweets if sn_counter[sn]>2]"
     ],
     "language": "python",
     "metadata": {},
     "outputs": [],
     "prompt_number": 6
    },
    {
     "cell_type": "code",
     "collapsed": false,
     "input": [
      "x = float(len(top_tweeter_tweets))/len(tweets)\n",
      "print x"
     ],
     "language": "python",
     "metadata": {},
     "outputs": [
      {
       "output_type": "stream",
       "stream": "stdout",
       "text": [
        "0.475350994995\n"
       ]
      }
     ],
     "prompt_number": 7
    },
    {
     "cell_type": "code",
     "collapsed": false,
     "input": [
      "def notShout(tokens):\n",
      "    length = len(tokens)\n",
      "    if length >0:\n",
      "        shout_count = 0.0\n",
      "        for word in tokens:\n",
      "            if word.isupper():\n",
      "                shout_count += 1\n",
      "        if shout_count/length<.6:\n",
      "            return True\n",
      "        else:\n",
      "            return False\n",
      "    else:\n",
      "        return False\n",
      "\n",
      "    # functions that help us construct the graph\n",
      "def graph_add_node(n, g, params):\n",
      "    try:\n",
      "        if g.has_node(n):\n",
      "            g.node[n]['weight']+=1\n",
      "        else:\n",
      "            g.add_node(n)\n",
      "            g.node[n]['weight'] = 1\n",
      "            for k,v in params.items():\n",
      "                g.node[n][k]=v\n",
      "    except:\n",
      "        return\n",
      "            \n",
      "def graph_add_edge(n1, n2, g):\n",
      "    if g.has_edge(n1, n2):\n",
      "        g[n1][n2]['weight']+=1\n",
      "    else:\n",
      "        g.add_edge(n1,n2)\n",
      "        g[n1][n2]['weight']=1\n",
      "        \n",
      "def regex_clean(p, text):\n",
      "    #return matches and new text as (list, list)\n",
      "    matches = re.findall(p, text)\n",
      "    for m in matches:\n",
      "        l = len(m)\n",
      "        text = text.replace(m, \" \"*l)\n",
      "    return (matches, text)"
     ],
     "language": "python",
     "metadata": {},
     "outputs": [],
     "prompt_number": 8
    },
    {
     "cell_type": "code",
     "collapsed": false,
     "input": [
      "word_count = Counter()\n",
      "\n",
      "hashtag_set = set([ht.lower() for u, ht in db_hashtags])\n",
      "hashtag_count = Counter([ht.lower() for u, ht in db_hashtags])\n",
      "hashtagco = {} #hashtag co-occurence dictionary\n",
      "\n",
      "cap_words_count = Counter()\n",
      "acronyms_count = Counter()\n",
      "\n",
      "import networkx as nx\n",
      "from networkx.algorithms import bipartite\n",
      "user_words = nx.Graph()\n",
      "wordco = nx.Graph()"
     ],
     "language": "python",
     "metadata": {},
     "outputs": [],
     "prompt_number": 9
    },
    {
     "cell_type": "code",
     "collapsed": false,
     "input": [
      "shout_count = 0\n",
      "user_word_dict = {}\n",
      "for screen_name, user_id, tweet in top_tweeter_tweets:\n",
      "    tweet = tweet.strip()\n",
      "    tweet = tweet.encode('ascii', 'ignore')\n",
      "    hashtags, tweet = regex_clean(re_hashtag, tweet)\n",
      "    retweets, tweet = regex_clean(re_retweets, tweet)\n",
      "    urls, tweet = regex_clean(re_urls, tweet)\n",
      "    mentions, tweet = regex_clean(re_mentions, tweet)\n",
      "    words = [word.lower() for word in wordpunct_tokenize(tweet) if word.lower() not in global_stop and not word.isdigit()]\n",
      "    words = [word for word in words if word not in punctuation]\n",
      "    if notShout(words):\n",
      "        acronyms = [a for a in re.findall(re_acronym, tweet) if a.lower() not in global_stop]\n",
      "        acronyms_count.update(acronyms)\n",
      "        cap_words = re.findall(re_comp, tweet)\n",
      "        cap_words_count.update(cap_words)\n",
      "        #debug\n",
      "#         print '|urls %s' %urls\n",
      "#         print '|hashtags %s' %hashtags\n",
      "#         print '|mentions %s' %mentions\n",
      "#         print '|retweets %s' %retweets\n",
      "#         print '|cap_words %s' %cap_words\n",
      "#         print '|acronyms %s' %acronyms\n",
      "#         print words\n",
      "        if len(retweets)==0:\n",
      "            word_count.update(words)\n",
      "            if screen_name in user_word_dict.keys():\n",
      "                user_word_dict[screen_name]+=words\n",
      "            else:\n",
      "                user_word_dict[screen_name]=words\n",
      "            #word-to-word dict\n",
      "            for c1, c2 in list(combinations(words, 2)):\n",
      "                graph_add_edge(c1, c2, wordco)\n",
      "#             word_set |= set(words)  \n",
      "    #     mention_set |= set(mentions)\n",
      "    #     retweets_set |= set(retweets)\n",
      "    else:\n",
      "        shout_count += 1\n",
      "    # print \"----------------\""
     ],
     "language": "python",
     "metadata": {},
     "outputs": [],
     "prompt_number": 10
    },
    {
     "cell_type": "code",
     "collapsed": false,
     "input": [
      "for sn,words in user_word_dict.items():\n",
      "    words_to_add = [word for word in words if word_count[word]>20]\n",
      "    for to_add in words_to_add:\n",
      "        graph_add_node(sn, user_words, {'bipartite':0})\n",
      "        graph_add_node(to_add, user_words, {'bipartite':1})\n",
      "        graph_add_edge(sn, to_add, user_words)"
     ],
     "language": "python",
     "metadata": {},
     "outputs": [],
     "prompt_number": 11
    },
    {
     "cell_type": "code",
     "collapsed": false,
     "input": [
      "nx.write_gexf(user_words, '%s_tweet_graph.gexf' %'user_words')\n",
      "print '%s_tweet_graph.gexf' %'user_words'"
     ],
     "language": "python",
     "metadata": {},
     "outputs": [
      {
       "output_type": "stream",
       "stream": "stdout",
       "text": [
        "user_words_tweet_graph.gexf\n"
       ]
      }
     ],
     "prompt_number": 12
    },
    {
     "cell_type": "markdown",
     "metadata": {},
     "source": [
      " \n",
      "    "
     ]
    },
    {
     "cell_type": "code",
     "collapsed": false,
     "input": [
      "print \"number of nodes %d\" %user_words.number_of_nodes()\n",
      "print \"number of edges %d\" %user_words.number_of_edges()"
     ],
     "language": "python",
     "metadata": {},
     "outputs": [
      {
       "output_type": "stream",
       "stream": "stdout",
       "text": [
        "number of nodes 2863\n",
        "number of edges 29341\n"
       ]
      }
     ],
     "prompt_number": 13
    },
    {
     "cell_type": "code",
     "collapsed": false,
     "input": [
      "nx.write_gexf(wordco, '%s_tweet_graph.gexf' %'wordco')\n",
      "print '%s_tweet_graph.gexf' %'wordco'"
     ],
     "language": "python",
     "metadata": {},
     "outputs": [
      {
       "output_type": "stream",
       "stream": "stdout",
       "text": [
        "wordco_tweet_graph.gexf\n"
       ]
      }
     ],
     "prompt_number": 14
    },
    {
     "cell_type": "code",
     "collapsed": false,
     "input": [
      "word_count.most_common(50)"
     ],
     "language": "python",
     "metadata": {},
     "outputs": [
      {
       "metadata": {},
       "output_type": "pyout",
       "prompt_number": 11,
       "text": [
        "[('stop', 984),\n",
        " ('tests', 825),\n",
        " ('testing', 703),\n",
        " ('admits', 665),\n",
        " ('add', 625),\n",
        " ('lets', 622),\n",
        " ('arts', 621),\n",
        " ('illegalendorsement', 611),\n",
        " ('standards', 493),\n",
        " ('bush', 431),\n",
        " ('education', 412),\n",
        " ('math', 393),\n",
        " ('students', 374),\n",
        " ('state', 364),\n",
        " ('teachers', 356),\n",
        " ('jeb', 311),\n",
        " ('parents', 304),\n",
        " ('curriculum', 298),\n",
        " ('new', 289),\n",
        " ('schools', 286),\n",
        " ('repeal', 271),\n",
        " ('high', 256),\n",
        " ('help', 235),\n",
        " ('children', 234),\n",
        " ('kids', 220),\n",
        " ('support', 219),\n",
        " ('school', 203),\n",
        " ('need', 184),\n",
        " ('anti', 183),\n",
        " ('stakes', 180),\n",
        " ('video', 178),\n",
        " ('post', 176),\n",
        " ('seeks', 171),\n",
        " ('read', 169),\n",
        " ('could', 161),\n",
        " ('nation', 160),\n",
        " ('retweet', 159),\n",
        " ('ohio', 154),\n",
        " ('teacher', 148),\n",
        " ('american', 146),\n",
        " ('states', 144),\n",
        " ('presidential', 143),\n",
        " ('critics', 141),\n",
        " ('know', 139),\n",
        " ('campaign', 134),\n",
        " ('say', 133),\n",
        " ('ready', 132),\n",
        " ('child', 131),\n",
        " ('ground', 131),\n",
        " ('bill', 130)]"
       ]
      }
     ],
     "prompt_number": 11
    },
    {
     "cell_type": "code",
     "collapsed": false,
     "input": [],
     "language": "python",
     "metadata": {},
     "outputs": []
    }
   ],
   "metadata": {}
  }
 ]
}