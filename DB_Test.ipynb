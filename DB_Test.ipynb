{
 "metadata": {
  "name": ""
 },
 "nbformat": 3,
 "nbformat_minor": 0,
 "worksheets": [
  {
   "cells": [
    {
     "cell_type": "code",
     "collapsed": false,
     "input": [
      "from tweetsql.model import User, UserData, Friend, Hashtag, Word, Tweet, NoUser\n",
      "from tweetsql.database import db_session\n",
      "from sqlalchemy import func, distinct"
     ],
     "language": "python",
     "metadata": {},
     "outputs": [],
     "prompt_number": 88
    },
    {
     "cell_type": "code",
     "collapsed": false,
     "input": [
      "\n",
      "count = db_session.query(User.id, func.count(UserData.id)).join(UserData.users).group_by(User.id).all()"
     ],
     "language": "python",
     "metadata": {},
     "outputs": [],
     "prompt_number": 146
    },
    {
     "cell_type": "code",
     "collapsed": false,
     "input": [
      "df_users = pd.DataFrame(count, columns =['Users', 'Data'])\n",
      "df_users.describe()"
     ],
     "language": "python",
     "metadata": {},
     "outputs": [
      {
       "html": [
        "<div style=\"max-height:1000px;max-width:1500px;overflow:auto;\">\n",
        "<table border=\"1\" class=\"dataframe\">\n",
        "  <thead>\n",
        "    <tr style=\"text-align: right;\">\n",
        "      <th></th>\n",
        "      <th>Users</th>\n",
        "      <th>Data</th>\n",
        "    </tr>\n",
        "  </thead>\n",
        "  <tbody>\n",
        "    <tr>\n",
        "      <th>count</th>\n",
        "      <td> 21216.000000</td>\n",
        "      <td> 21216</td>\n",
        "    </tr>\n",
        "    <tr>\n",
        "      <th>mean</th>\n",
        "      <td> 10648.875377</td>\n",
        "      <td>     1</td>\n",
        "    </tr>\n",
        "    <tr>\n",
        "      <th>std</th>\n",
        "      <td>  6141.615331</td>\n",
        "      <td>     0</td>\n",
        "    </tr>\n",
        "    <tr>\n",
        "      <th>min</th>\n",
        "      <td>     1.000000</td>\n",
        "      <td>     1</td>\n",
        "    </tr>\n",
        "    <tr>\n",
        "      <th>25%</th>\n",
        "      <td>  5333.750000</td>\n",
        "      <td>     1</td>\n",
        "    </tr>\n",
        "    <tr>\n",
        "      <th>50%</th>\n",
        "      <td> 10651.500000</td>\n",
        "      <td>     1</td>\n",
        "    </tr>\n",
        "    <tr>\n",
        "      <th>75%</th>\n",
        "      <td> 15967.250000</td>\n",
        "      <td>     1</td>\n",
        "    </tr>\n",
        "    <tr>\n",
        "      <th>max</th>\n",
        "      <td> 21277.000000</td>\n",
        "      <td>     1</td>\n",
        "    </tr>\n",
        "  </tbody>\n",
        "</table>\n",
        "</div>"
       ],
       "metadata": {},
       "output_type": "pyout",
       "prompt_number": 147,
       "text": [
        "              Users   Data\n",
        "count  21216.000000  21216\n",
        "mean   10648.875377      1\n",
        "std     6141.615331      0\n",
        "min        1.000000      1\n",
        "25%     5333.750000      1\n",
        "50%    10651.500000      1\n",
        "75%    15967.250000      1\n",
        "max    21277.000000      1"
       ]
      }
     ],
     "prompt_number": 147
    },
    {
     "cell_type": "markdown",
     "metadata": {},
     "source": [
      "friends = sess.query(User.id, Friend.id).join(Friend.users).first()"
     ]
    },
    {
     "cell_type": "code",
     "collapsed": false,
     "input": [
      "friends = db_session.query(User.id, func.count(Friend.id)).join(Friend.user).group_by(User.id).all()"
     ],
     "language": "python",
     "metadata": {},
     "outputs": [],
     "prompt_number": 136
    },
    {
     "cell_type": "code",
     "collapsed": false,
     "input": [
      "import pandas as pd\n",
      "df = pd.DataFrame(friends, columns=['user', 'friend'])"
     ],
     "language": "python",
     "metadata": {},
     "outputs": [],
     "prompt_number": 137
    },
    {
     "cell_type": "code",
     "collapsed": false,
     "input": [
      "df.describe()"
     ],
     "language": "python",
     "metadata": {},
     "outputs": [
      {
       "html": [
        "<div style=\"max-height:1000px;max-width:1500px;overflow:auto;\">\n",
        "<table border=\"1\" class=\"dataframe\">\n",
        "  <thead>\n",
        "    <tr style=\"text-align: right;\">\n",
        "      <th></th>\n",
        "      <th>user</th>\n",
        "      <th>friend</th>\n",
        "    </tr>\n",
        "  </thead>\n",
        "  <tbody>\n",
        "    <tr>\n",
        "      <th>count</th>\n",
        "      <td> 11134.000000</td>\n",
        "      <td> 11134.000000</td>\n",
        "    </tr>\n",
        "    <tr>\n",
        "      <th>mean</th>\n",
        "      <td>  6025.484821</td>\n",
        "      <td>  1417.571133</td>\n",
        "    </tr>\n",
        "    <tr>\n",
        "      <th>std</th>\n",
        "      <td>  3533.452693</td>\n",
        "      <td>  3314.440583</td>\n",
        "    </tr>\n",
        "    <tr>\n",
        "      <th>min</th>\n",
        "      <td>     2.000000</td>\n",
        "      <td>     1.000000</td>\n",
        "    </tr>\n",
        "    <tr>\n",
        "      <th>25%</th>\n",
        "      <td>  2809.250000</td>\n",
        "      <td>   151.250000</td>\n",
        "    </tr>\n",
        "    <tr>\n",
        "      <th>50%</th>\n",
        "      <td>  6304.500000</td>\n",
        "      <td>   485.000000</td>\n",
        "    </tr>\n",
        "    <tr>\n",
        "      <th>75%</th>\n",
        "      <td>  9111.750000</td>\n",
        "      <td>  1524.250000</td>\n",
        "    </tr>\n",
        "    <tr>\n",
        "      <th>max</th>\n",
        "      <td> 11920.000000</td>\n",
        "      <td> 75000.000000</td>\n",
        "    </tr>\n",
        "  </tbody>\n",
        "</table>\n",
        "</div>"
       ],
       "metadata": {},
       "output_type": "pyout",
       "prompt_number": 138,
       "text": [
        "               user        friend\n",
        "count  11134.000000  11134.000000\n",
        "mean    6025.484821   1417.571133\n",
        "std     3533.452693   3314.440583\n",
        "min        2.000000      1.000000\n",
        "25%     2809.250000    151.250000\n",
        "50%     6304.500000    485.000000\n",
        "75%     9111.750000   1524.250000\n",
        "max    11920.000000  75000.000000"
       ]
      }
     ],
     "prompt_number": 138
    },
    {
     "cell_type": "code",
     "collapsed": false,
     "input": [
      "df[df.tweet>100]"
     ],
     "language": "python",
     "metadata": {},
     "outputs": [
      {
       "html": [
        "<div style=\"max-height:1000px;max-width:1500px;overflow:auto;\">\n",
        "<table border=\"1\" class=\"dataframe\">\n",
        "  <thead>\n",
        "    <tr style=\"text-align: right;\">\n",
        "      <th></th>\n",
        "      <th>user</th>\n",
        "      <th>tweet</th>\n",
        "    </tr>\n",
        "  </thead>\n",
        "  <tbody>\n",
        "    <tr>\n",
        "      <th>17   </th>\n",
        "      <td>    18</td>\n",
        "      <td> 106</td>\n",
        "    </tr>\n",
        "    <tr>\n",
        "      <th>139  </th>\n",
        "      <td>   140</td>\n",
        "      <td> 112</td>\n",
        "    </tr>\n",
        "    <tr>\n",
        "      <th>368  </th>\n",
        "      <td>   369</td>\n",
        "      <td> 197</td>\n",
        "    </tr>\n",
        "    <tr>\n",
        "      <th>815  </th>\n",
        "      <td>   816</td>\n",
        "      <td> 157</td>\n",
        "    </tr>\n",
        "    <tr>\n",
        "      <th>1130 </th>\n",
        "      <td>  1131</td>\n",
        "      <td> 103</td>\n",
        "    </tr>\n",
        "    <tr>\n",
        "      <th>1145 </th>\n",
        "      <td>  1146</td>\n",
        "      <td> 105</td>\n",
        "    </tr>\n",
        "    <tr>\n",
        "      <th>1179 </th>\n",
        "      <td>  1180</td>\n",
        "      <td> 122</td>\n",
        "    </tr>\n",
        "    <tr>\n",
        "      <th>1255 </th>\n",
        "      <td>  1256</td>\n",
        "      <td> 187</td>\n",
        "    </tr>\n",
        "    <tr>\n",
        "      <th>1282 </th>\n",
        "      <td>  1283</td>\n",
        "      <td> 133</td>\n",
        "    </tr>\n",
        "    <tr>\n",
        "      <th>1289 </th>\n",
        "      <td>  1290</td>\n",
        "      <td> 139</td>\n",
        "    </tr>\n",
        "    <tr>\n",
        "      <th>1345 </th>\n",
        "      <td>  1346</td>\n",
        "      <td> 117</td>\n",
        "    </tr>\n",
        "    <tr>\n",
        "      <th>15188</th>\n",
        "      <td> 15190</td>\n",
        "      <td> 430</td>\n",
        "    </tr>\n",
        "    <tr>\n",
        "      <th>19281</th>\n",
        "      <td> 19283</td>\n",
        "      <td> 189</td>\n",
        "    </tr>\n",
        "  </tbody>\n",
        "</table>\n",
        "</div>"
       ],
       "metadata": {},
       "output_type": "pyout",
       "prompt_number": 123,
       "text": [
        "        user  tweet\n",
        "17        18    106\n",
        "139      140    112\n",
        "368      369    197\n",
        "815      816    157\n",
        "1130    1131    103\n",
        "1145    1146    105\n",
        "1179    1180    122\n",
        "1255    1256    187\n",
        "1282    1283    133\n",
        "1289    1290    139\n",
        "1345    1346    117\n",
        "15188  15190    430\n",
        "19281  19283    189"
       ]
      }
     ],
     "prompt_number": 123
    },
    {
     "cell_type": "code",
     "collapsed": false,
     "input": [
      "db_session.query(User.screen_name).filter_by(id=369).all()"
     ],
     "language": "python",
     "metadata": {},
     "outputs": [
      {
       "metadata": {},
       "output_type": "pyout",
       "prompt_number": 125,
       "text": [
        "[(u'darmercurio')]"
       ]
      }
     ],
     "prompt_number": 125
    },
    {
     "cell_type": "code",
     "collapsed": false,
     "input": [
      "dir(keys.lf1)"
     ],
     "language": "python",
     "metadata": {},
     "outputs": [
      {
       "metadata": {},
       "output_type": "pyout",
       "prompt_number": 47,
       "text": [
        "['CONSUMER_KEY',\n",
        " 'CONSUMER_SECRET',\n",
        " 'OAUTH_TOKEN',\n",
        " 'OAUTH_TOKEN_SECRET',\n",
        " '__builtins__',\n",
        " '__doc__',\n",
        " '__file__',\n",
        " '__name__',\n",
        " '__package__']"
       ]
      }
     ],
     "prompt_number": 47
    },
    {
     "cell_type": "code",
     "collapsed": false,
     "input": [
      "got_friends = db_session.query(distinct(Friend.user_id)).all() #first get all users in the friend table\n",
      "got_friends = [t[0] for t in got_friends]\n",
      "dead_users = db_session.query(NoUser.user_id).all()\n",
      "dead_users = [t[0] for t in dead_users]\n",
      "all_users = db_session.query(User.id, User.uid).all()\n",
      "all_users = [(pk,uid) for pk,uid in all_users if pk not in dead_users] #filter out dead users\n",
      "no_friends = [(pk,uid) for pk,uid in all_users if pk not in got_friends]"
     ],
     "language": "python",
     "metadata": {},
     "outputs": [],
     "prompt_number": 89
    },
    {
     "cell_type": "code",
     "collapsed": false,
     "input": [
      "len(no_friends)"
     ],
     "language": "python",
     "metadata": {},
     "outputs": [
      {
       "metadata": {},
       "output_type": "pyout",
       "prompt_number": 91,
       "text": [
        "9820"
       ]
      }
     ],
     "prompt_number": 91
    },
    {
     "cell_type": "code",
     "collapsed": false,
     "input": [],
     "language": "python",
     "metadata": {},
     "outputs": []
    }
   ],
   "metadata": {}
  }
 ]
}