{
 "metadata": {
  "name": "",
  "signature": "sha256:6d975b7770d815ddfd9f931b9208cca6724835e7ba0153603eee8b2edd8046bc"
 },
 "nbformat": 3,
 "nbformat_minor": 0,
 "worksheets": [
  {
   "cells": [
    {
     "cell_type": "code",
     "collapsed": false,
     "input": [
      "from tweetsql.model import UserData, User, Friend\n",
      "from tweetsql.database import Base, db_session, engine\n",
      "from sqlalchemy.exc import OperationalError\n",
      "from sqlalchemy.orm.exc import MultipleResultsFound, NoResultFound\n",
      "import pickle"
     ],
     "language": "python",
     "metadata": {},
     "outputs": [],
     "prompt_number": 2
    },
    {
     "cell_type": "code",
     "collapsed": false,
     "input": [
      "g5_top_user_friends = open('g5_user_friends.p', 'rb')\n",
      "user_friends = pickle.load(g5_top_user_friends)"
     ],
     "language": "python",
     "metadata": {},
     "outputs": [],
     "prompt_number": 21
    },
    {
     "cell_type": "code",
     "collapsed": false,
     "input": [
      "user_ids = set([ui for usn, ui, fi in user_friends])\n",
      "len(user_ids)"
     ],
     "language": "python",
     "metadata": {},
     "outputs": [
      {
       "metadata": {},
       "output_type": "pyout",
       "prompt_number": 38,
       "text": [
        "314"
       ]
      }
     ],
     "prompt_number": 38
    },
    {
     "cell_type": "code",
     "collapsed": false,
     "input": [
      "import pandas as pd\n",
      "df = pd.DataFrame(user_friends, columns=['screen_name', 'uid', 'friend_id'])"
     ],
     "language": "python",
     "metadata": {},
     "outputs": [],
     "prompt_number": 25
    },
    {
     "cell_type": "code",
     "collapsed": false,
     "input": [
      "len(df)"
     ],
     "language": "python",
     "metadata": {},
     "outputs": [
      {
       "metadata": {},
       "output_type": "pyout",
       "prompt_number": 40,
       "text": [
        "656526"
       ]
      }
     ],
     "prompt_number": 40
    },
    {
     "cell_type": "code",
     "collapsed": false,
     "input": [
      "user_connections = []\n",
      "for usr_scn, ui, fi in user_friends:\n",
      "    if fi in user_ids:\n",
      "        try:\n",
      "            fr_scn = db_session.query(User.screen_name).filter(User.uid==fi).one()\n",
      "            user_connections.append((usr_scn, fr_scn.screen_name))\n",
      "        except MultipleResultsFound:\n",
      "            print 'multiple results found'\n",
      "            break\n",
      "        except NoResultFound:\n",
      "            print 'not in user table'\n",
      "            break\n",
      "            \n",
      "        "
     ],
     "language": "python",
     "metadata": {},
     "outputs": [],
     "prompt_number": 33
    },
    {
     "cell_type": "code",
     "collapsed": false,
     "input": [
      "len(user_connections)"
     ],
     "language": "python",
     "metadata": {},
     "outputs": [
      {
       "metadata": {},
       "output_type": "pyout",
       "prompt_number": 35,
       "text": [
        "3080"
       ]
      }
     ],
     "prompt_number": 35
    },
    {
     "cell_type": "code",
     "collapsed": false,
     "input": [
      "db_session.query(User.screen_name).filter(User.uid=='110503946').one()"
     ],
     "language": "python",
     "metadata": {},
     "outputs": [
      {
       "metadata": {},
       "output_type": "pyout",
       "prompt_number": 30,
       "text": [
        "(u'ezbyte')"
       ]
      }
     ],
     "prompt_number": 30
    },
    {
     "cell_type": "code",
     "collapsed": false,
     "input": [
      "import networkx as nx\n",
      "\n",
      "def graph_add_node(n, g, params):\n",
      "    \n",
      "    try:\n",
      "        if g.has_node(n):\n",
      "            g.node[n]['weight']+=1\n",
      "        else:\n",
      "            g.add_node(n)\n",
      "            g.node[n]['weight'] = 1\n",
      "            for k,v in params.items():\n",
      "                g.node[n][k]=v\n",
      "    except:\n",
      "        return\n",
      "            \n",
      "def graph_add_edge(n1, n2, g):\n",
      "    if g.has_edge(n1, n2):\n",
      "        g[n1][n2]['weight']+=1\n",
      "    else:\n",
      "        g.add_edge(n1,n2)\n",
      "        g[n1][n2]['weight']=1"
     ],
     "language": "python",
     "metadata": {},
     "outputs": [],
     "prompt_number": 36
    },
    {
     "cell_type": "code",
     "collapsed": false,
     "input": [
      "social_ties = nx.Graph()\n",
      "for user, friend in user_connections:\n",
      "    graph_add_node(user, social_ties, {'side': 'user'})\n",
      "    graph_add_node(friend, social_ties, {'side': 'friend'})\n",
      "    graph_add_edge(user, friend, social_ties)"
     ],
     "language": "python",
     "metadata": {},
     "outputs": [],
     "prompt_number": 41
    },
    {
     "cell_type": "code",
     "collapsed": false,
     "input": [
      "print \"nodes: %d\" %social_ties.number_of_nodes()\n",
      "print \"edges: %d\" %social_ties.number_of_edges()"
     ],
     "language": "python",
     "metadata": {},
     "outputs": [
      {
       "output_type": "stream",
       "stream": "stdout",
       "text": [
        "nodes: 261\n",
        "edges: 2093\n"
       ]
      }
     ],
     "prompt_number": 43
    },
    {
     "cell_type": "code",
     "collapsed": false,
     "input": [
      "nx.write_gexf(social_ties, '%s_tweet_graph.gexf' %'social_ties')\n",
      "print '%s_tweet_graph.gexf' %'social_ties'"
     ],
     "language": "python",
     "metadata": {},
     "outputs": [
      {
       "output_type": "stream",
       "stream": "stdout",
       "text": [
        "social_ties_tweet_graph.gexf\n"
       ]
      }
     ],
     "prompt_number": 44
    },
    {
     "cell_type": "code",
     "collapsed": false,
     "input": [
      "dir(social_ties)"
     ],
     "language": "python",
     "metadata": {},
     "outputs": [
      {
       "metadata": {},
       "output_type": "pyout",
       "prompt_number": 42,
       "text": [
        "['__class__',\n",
        " '__contains__',\n",
        " '__delattr__',\n",
        " '__dict__',\n",
        " '__doc__',\n",
        " '__format__',\n",
        " '__getattribute__',\n",
        " '__getitem__',\n",
        " '__hash__',\n",
        " '__init__',\n",
        " '__iter__',\n",
        " '__len__',\n",
        " '__module__',\n",
        " '__new__',\n",
        " '__reduce__',\n",
        " '__reduce_ex__',\n",
        " '__repr__',\n",
        " '__setattr__',\n",
        " '__sizeof__',\n",
        " '__str__',\n",
        " '__subclasshook__',\n",
        " '__weakref__',\n",
        " 'add_cycle',\n",
        " 'add_edge',\n",
        " 'add_edges_from',\n",
        " 'add_node',\n",
        " 'add_nodes_from',\n",
        " 'add_path',\n",
        " 'add_star',\n",
        " 'add_weighted_edges_from',\n",
        " 'adj',\n",
        " 'adjacency_iter',\n",
        " 'adjacency_list',\n",
        " 'clear',\n",
        " 'copy',\n",
        " 'degree',\n",
        " 'degree_iter',\n",
        " 'edge',\n",
        " 'edges',\n",
        " 'edges_iter',\n",
        " 'get_edge_data',\n",
        " 'graph',\n",
        " 'has_edge',\n",
        " 'has_node',\n",
        " 'is_directed',\n",
        " 'is_multigraph',\n",
        " 'name',\n",
        " 'nbunch_iter',\n",
        " 'neighbors',\n",
        " 'neighbors_iter',\n",
        " 'node',\n",
        " 'nodes',\n",
        " 'nodes_iter',\n",
        " 'nodes_with_selfloops',\n",
        " 'number_of_edges',\n",
        " 'number_of_nodes',\n",
        " 'number_of_selfloops',\n",
        " 'order',\n",
        " 'remove_edge',\n",
        " 'remove_edges_from',\n",
        " 'remove_node',\n",
        " 'remove_nodes_from',\n",
        " 'selfloop_edges',\n",
        " 'size',\n",
        " 'subgraph',\n",
        " 'to_directed',\n",
        " 'to_undirected']"
       ]
      }
     ],
     "prompt_number": 42
    },
    {
     "cell_type": "code",
     "collapsed": false,
     "input": [],
     "language": "python",
     "metadata": {},
     "outputs": []
    }
   ],
   "metadata": {}
  }
 ]
}